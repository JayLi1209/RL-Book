{
 "cells": [
  {
   "cell_type": "markdown",
   "metadata": {},
   "source": [
    "## Example 6.5, Exercise 6.9 and 6.10"
   ]
  },
  {
   "cell_type": "code",
   "execution_count": 1,
   "metadata": {},
   "outputs": [],
   "source": [
    "import numpy as np\n",
    "import grid_world as GridWorld"
   ]
  },
  {
   "cell_type": "code",
   "execution_count": 2,
   "metadata": {},
   "outputs": [],
   "source": [
    "EPSILON = 0.1\n",
    "ALPHA = 0.5\n",
    "GAMMA = 1\n",
    "EPISODES = 170\n",
    "timesteps = 0\n",
    "\n",
    "mapping = {\n",
    "        0: np.array([1, 0]),   # Down\n",
    "        1: np.array([0, 1]),   # Right\n",
    "        2: np.array([-1, 0]),  # Up\n",
    "        3: np.array([0, -1])   # Left\n",
    "    }\n",
    "\n",
    "agent = GridWorld.GridWorld(mapping, sto = False)\n",
    "\n",
    "Q = np.zeros((*agent.nS, agent.nA))"
   ]
  },
  {
   "cell_type": "code",
   "execution_count": 3,
   "metadata": {},
   "outputs": [],
   "source": [
    "def get_action(agent, Q, cur_loc):\n",
    "    chance = np.random.random()\n",
    "    true_action = np.argmax(Q[cur_loc])\n",
    "    if chance > EPSILON:\n",
    "        return true_action\n",
    "    \n",
    "    random_action = np.random.randint(agent.nA)\n",
    "    while random_action == true_action:\n",
    "        random_action = np.random.randint(agent.nA)\n",
    "    return random_action"
   ]
  },
  {
   "cell_type": "code",
   "execution_count": 4,
   "metadata": {},
   "outputs": [
    {
     "ename": "",
     "evalue": "",
     "output_type": "error",
     "traceback": [
      "\u001b[1;31mThe Kernel crashed while executing code in the current cell or a previous cell. \n",
      "\u001b[1;31mPlease review the code in the cell(s) to identify a possible cause of the failure. \n",
      "\u001b[1;31mClick <a href='https://aka.ms/vscodeJupyterKernelCrash'>here</a> for more info. \n",
      "\u001b[1;31mView Jupyter <a href='command:jupyter.viewOutput'>log</a> for further details."
     ]
    }
   ],
   "source": [
    "for i in range(1):\n",
    "    obs, _ = agent.reset()\n",
    "    cur_a = get_action(agent, Q, obs)\n",
    "    terminated = False\n",
    "    cur_s = obs\n",
    "\n",
    "    while not terminated:\n",
    "        agent.render()\n",
    "        next_s, reward, terminated, truncated, _ = agent.step(cur_a)\n",
    "        next_a = get_action(agent, Q, next_s)\n",
    "        # print(\"hi: \", cur_s, cur_a, \"actual \", Q[cur_s][cur_a])\n",
    "        # print(\"formats: \", np.array(cur_s).shape, cur_a, Q.shape, \"actual \", Q[cur_s][cur_a], reward)\n",
    "        # print(\"next ones: \", next_s, next_a)\n",
    "        Q[cur_s][cur_a] = Q[cur_s][cur_a] + ALPHA * (reward + GAMMA * Q[next_s][next_a] - Q[cur_s][cur_a])\n",
    "        cur_s = next_s\n",
    "        cur_a = next_a"
   ]
  }
 ],
 "metadata": {
  "kernelspec": {
   "display_name": "venv",
   "language": "python",
   "name": "python3"
  },
  "language_info": {
   "codemirror_mode": {
    "name": "ipython",
    "version": 3
   },
   "file_extension": ".py",
   "mimetype": "text/x-python",
   "name": "python",
   "nbconvert_exporter": "python",
   "pygments_lexer": "ipython3",
   "version": "3.13.5"
  }
 },
 "nbformat": 4,
 "nbformat_minor": 2
}
